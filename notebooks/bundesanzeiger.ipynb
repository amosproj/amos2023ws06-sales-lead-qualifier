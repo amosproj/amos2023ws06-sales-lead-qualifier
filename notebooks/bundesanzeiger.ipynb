{
 "cells": [
  {
   "cell_type": "code",
   "execution_count": null,
   "id": "cd9b776d",
   "metadata": {},
   "outputs": [],
   "source": [
    "# SPDX-License-Identifier: MIT\n",
    "# SPDX-FileCopyrightText: 2023 Berkay Bozkurt <resitberkaybozkurt@gmail.com>"
   ]
  },
  {
   "cell_type": "code",
   "execution_count": null,
   "id": "b9708d41",
   "metadata": {},
   "outputs": [],
   "source": [
    "import deutschland\n",
    "from deutschland.bundesanzeiger import Bundesanzeiger"
   ]
  },
  {
   "cell_type": "code",
   "execution_count": null,
   "id": "f4f30ce8",
   "metadata": {},
   "outputs": [],
   "source": [
    "ba = Bundesanzeiger()"
   ]
  },
  {
   "cell_type": "code",
   "execution_count": null,
   "id": "269f142f",
   "metadata": {},
   "outputs": [],
   "source": [
    "help(deutschland)"
   ]
  },
  {
   "cell_type": "code",
   "execution_count": null,
   "id": "66fd8dbc",
   "metadata": {},
   "outputs": [],
   "source": [
    "lead_reports = ba.get_reports(\"IAV\")"
   ]
  },
  {
   "cell_type": "code",
   "execution_count": null,
   "id": "86b2d395",
   "metadata": {},
   "outputs": [],
   "source": [
    "type(lead_reports)"
   ]
  },
  {
   "cell_type": "code",
   "execution_count": null,
   "id": "aa76df30",
   "metadata": {},
   "outputs": [],
   "source": [
    "report_keys = lead_reports.keys()"
   ]
  },
  {
   "cell_type": "code",
   "execution_count": null,
   "id": "ef805e05",
   "metadata": {},
   "outputs": [],
   "source": [
    "report_keys"
   ]
  },
  {
   "cell_type": "code",
   "execution_count": null,
   "id": "ada6af96",
   "metadata": {},
   "outputs": [],
   "source": [
    "first_key = list(report_keys)[0]"
   ]
  },
  {
   "cell_type": "code",
   "execution_count": null,
   "id": "04859d01",
   "metadata": {},
   "outputs": [],
   "source": [
    "first_report = lead_reports[first_key]"
   ]
  },
  {
   "cell_type": "code",
   "execution_count": null,
   "id": "10ceb093",
   "metadata": {},
   "outputs": [],
   "source": [
    "first_report"
   ]
  },
  {
   "cell_type": "code",
   "execution_count": null,
   "id": "27195323",
   "metadata": {},
   "outputs": [],
   "source": [
    "second_key = list(report_keys)[1]"
   ]
  },
  {
   "cell_type": "code",
   "execution_count": null,
   "id": "2b2b4cbf",
   "metadata": {},
   "outputs": [],
   "source": [
    "second_reports = lead_reports[second_key]"
   ]
  },
  {
   "cell_type": "code",
   "execution_count": null,
   "id": "85e95336",
   "metadata": {},
   "outputs": [],
   "source": [
    "for key in report_keys:\n",
    "    report = lead_reports[key]\n",
    "    company_name = report['company']\n",
    "    print(company_name)"
   ]
  },
  {
   "cell_type": "code",
   "execution_count": null,
   "id": "4b384c6f",
   "metadata": {},
   "outputs": [],
   "source": [
    "lead_reports"
   ]
  },
  {
   "cell_type": "code",
   "execution_count": null,
   "id": "4c331426",
   "metadata": {},
   "outputs": [],
   "source": [
    "import html"
   ]
  },
  {
   "cell_type": "code",
   "execution_count": null,
   "id": "82f482a4",
   "metadata": {},
   "outputs": [],
   "source": [
    "second_report_content =  html.unescape(second_reports['report'])"
   ]
  },
  {
   "cell_type": "code",
   "execution_count": null,
   "id": "64da9254",
   "metadata": {},
   "outputs": [],
   "source": [
    "second_reports['report']"
   ]
  },
  {
   "cell_type": "code",
   "execution_count": null,
   "id": "f697a1e7",
   "metadata": {},
   "outputs": [],
   "source": [
    "second_report_content"
   ]
  },
  {
   "cell_type": "code",
   "execution_count": null,
   "id": "7bb44522",
   "metadata": {},
   "outputs": [],
   "source": [
    "import requests"
   ]
  },
  {
   "cell_type": "code",
   "execution_count": null,
   "id": "6d5248da",
   "metadata": {},
   "outputs": [],
   "source": [
    "officer_url = 'https://api.opencorporates.com/v0.4/officers/search'"
   ]
  },
  {
   "cell_type": "code",
   "execution_count": null,
   "id": "48a75d6a",
   "metadata": {},
   "outputs": [],
   "source": [
    "data_params = {\n",
    "    'jurisdiction_code' : 'de',\n",
    "    'q' : 'Laura+SLESINSKA'\n",
    "}\n",
    "# Optionally set headers\n",
    "headers = {\n",
    "    'Accept': 'application/json'  # Request JSON response\n",
    "}"
   ]
  },
  {
   "cell_type": "code",
   "execution_count": null,
   "id": "6efe3ee3",
   "metadata": {},
   "outputs": [],
   "source": [
    "req = requests.get('https://db.offeneregister.de/openregister/Names?_search=andreas+zink&_sort=rowid', headers=headers)"
   ]
  },
  {
   "cell_type": "code",
   "execution_count": null,
   "id": "f4503efc",
   "metadata": {},
   "outputs": [],
   "source": [
    "print(req.status_code)"
   ]
  },
  {
   "cell_type": "code",
   "execution_count": null,
   "id": "37c2e704",
   "metadata": {},
   "outputs": [],
   "source": [
    "content_type = req.headers.get('Content-Type')"
   ]
  },
  {
   "cell_type": "code",
   "execution_count": null,
   "id": "7db8225d",
   "metadata": {},
   "outputs": [],
   "source": [
    "content_type"
   ]
  },
  {
   "cell_type": "code",
   "execution_count": null,
   "id": "b030563e",
   "metadata": {},
   "outputs": [],
   "source": [
    "req"
   ]
  },
  {
   "cell_type": "code",
   "execution_count": null,
   "id": "d9548077",
   "metadata": {},
   "outputs": [],
   "source": [
    "req.content"
   ]
  },
  {
   "cell_type": "code",
   "execution_count": null,
   "id": "a03656e2",
   "metadata": {},
   "outputs": [],
   "source": [
    "from bs4 import BeautifulSoup"
   ]
  },
  {
   "cell_type": "code",
   "execution_count": null,
   "id": "fea3f7a9",
   "metadata": {},
   "outputs": [],
   "source": [
    "soup = BeautifulSoup(req.content, 'lxml')"
   ]
  },
  {
   "cell_type": "code",
   "execution_count": null,
   "id": "681f8915",
   "metadata": {},
   "outputs": [],
   "source": [
    "soup"
   ]
  },
  {
   "cell_type": "code",
   "execution_count": null,
   "id": "20447a87",
   "metadata": {},
   "outputs": [],
   "source": []
  }
 ],
 "metadata": {
  "kernelspec": {
   "display_name": "Python 3 (ipykernel)",
   "language": "python",
   "name": "python3"
  },
  "language_info": {
   "codemirror_mode": {
    "name": "ipython",
    "version": 3
   },
   "file_extension": ".py",
   "mimetype": "text/x-python",
   "name": "python",
   "nbconvert_exporter": "python",
   "pygments_lexer": "ipython3",
   "version": "3.9.12"
  }
 },
 "nbformat": 4,
 "nbformat_minor": 5
}
