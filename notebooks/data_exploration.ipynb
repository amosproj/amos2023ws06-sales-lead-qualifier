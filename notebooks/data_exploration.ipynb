{
 "cells": [
  {
   "cell_type": "code",
   "execution_count": null,
   "id": "b14adf8b-3554-4775-8a54-fb95aa8a6357",
   "metadata": {},
   "outputs": [],
   "source": [
    "import matplotlib.pyplot as plt\n",
    "import pandas as pd"
   ]
  },
  {
   "cell_type": "code",
   "execution_count": null,
   "id": "0d78a049",
   "metadata": {
    "is_executing": true
   },
   "outputs": [],
   "source": [
    "from difflib import SequenceMatcher\n",
    "\n",
    "def similarity(a, b):\n",
    "    if a is None or b is None:\n",
    "        return 0\n",
    "    return SequenceMatcher(None, str(a), str(b)).ratio()"
   ]
  },
  {
   "cell_type": "markdown",
   "id": "49afbf77",
   "metadata": {},
   "source": [
    "## Load Datasets"
   ]
  },
  {
   "cell_type": "code",
   "execution_count": null,
   "id": "d44dd490-2331-4c61-9366-9e131c5e9b2c",
   "metadata": {},
   "outputs": [],
   "source": [
    "import sys\n",
    "sys.path.append(\"../src/\")"
   ]
  },
  {
   "cell_type": "code",
   "execution_count": null,
   "id": "1d49fdc3-e3b5-43c0-88a4-76619ea4c46d",
   "metadata": {},
   "outputs": [],
   "source": [
    "from database.leads import s3_repository\n",
    "\n",
    "s3 = s3_repository.s3"
   ]
  },
  {
   "cell_type": "code",
   "execution_count": null,
   "id": "07c04761-129f-4990-b3ff-0f7bcbf03455",
   "metadata": {},
   "outputs": [],
   "source": [
    "def fetch_object_s3(bucket, obj_key):\n",
    "    \"\"\"\n",
    "    Tries to read an object from S3.\n",
    "    :return: s3 object\n",
    "    \"\"\"\n",
    "    obj = None\n",
    "    try:\n",
    "        remote_dataset = s3.get_object(Bucket=bucket, Key=obj_key)\n",
    "    except botocore.exceptions.ClientError as e:\n",
    "        log.warning(\n",
    "            f\"{e.response['Error']['Code']}: {e.response['Error']['Message']}\"\n",
    "            if \"Error\" in e.response\n",
    "            else f\"Error while getting object s3://{bucket}/{obj_key}\"\n",
    "        )\n",
    "\n",
    "    if remote_dataset is None or \"Body\" not in remote_dataset:\n",
    "        log.error(f\"Couldn't find dataset in S3 bucket {bucket} and key {obj_key}\")\n",
    "        return\n",
    "    else:\n",
    "        source = remote_dataset[\"Body\"]\n",
    "\n",
    "    try:\n",
    "        df = pd.read_csv(source)\n",
    "    except FileNotFoundError:\n",
    "        log.error(\"Error: Could not find input file for Pipeline.\")\n",
    "\n",
    "    return df"
   ]
  },
  {
   "cell_type": "code",
   "execution_count": null,
   "id": "c6caecf1",
   "metadata": {
    "is_executing": true
   },
   "outputs": [],
   "source": [
    "df = fetch_object_s3(\"amos-training-data\", \"100k_historic_enriched.csv\")"
   ]
  },
  {
   "cell_type": "code",
   "execution_count": null,
   "id": "c84ee480",
   "metadata": {
    "is_executing": true
   },
   "outputs": [],
   "source": [
    "#df_10k = pd.read_csv(\"s3://amos-training-data/10k_historic_enriched_with_regionalatlas.csv\", index_col=\"Unnamed: 0\")\n",
    "#df_1k = pd.read_csv(\"s3://amos-training-data/historic_enriched.csv\")\n",
    "#df_1k.info()"
   ]
  },
  {
   "cell_type": "code",
   "execution_count": null,
   "id": "13e197ba",
   "metadata": {
    "is_executing": true
   },
   "outputs": [],
   "source": [
    "df.head()"
   ]
  },
  {
   "cell_type": "code",
   "execution_count": null,
   "id": "26f3f68b",
   "metadata": {
    "is_executing": true
   },
   "outputs": [],
   "source": [
    "historic_df = fetch_object_s3(\"amos-training-data\", \"AMOS export historic data Dec 6, 23.csv\")"
   ]
  },
  {
   "cell_type": "code",
   "execution_count": null,
   "id": "1f04c6cd",
   "metadata": {
    "is_executing": true
   },
   "outputs": [],
   "source": [
    "#df_90k = pd.read_csv(\"s3://amos-training-data/90k_historic_enriched.csv\", index_col=\"Unnamed: 0\")"
   ]
  },
  {
   "cell_type": "markdown",
   "id": "28a75b0c",
   "metadata": {},
   "source": [
    "### Merge 90k and 10k enriched samples"
   ]
  },
  {
   "cell_type": "code",
   "execution_count": null,
   "id": "b83772eb",
   "metadata": {
    "is_executing": true
   },
   "outputs": [],
   "source": [
    "# df = pd.concat([df_10k, df_90k])"
   ]
  },
  {
   "cell_type": "code",
   "execution_count": null,
   "id": "6758ce2f",
   "metadata": {
    "is_executing": true
   },
   "outputs": [],
   "source": [
    "# df.info()"
   ]
  },
  {
   "cell_type": "code",
   "execution_count": null,
   "id": "79b89309",
   "metadata": {
    "is_executing": true
   },
   "outputs": [],
   "source": [
    "# df.to_csv(\"s3://amos-training-data/100k_historic_enriched.csv\", index=False)"
   ]
  },
  {
   "cell_type": "markdown",
   "id": "f406bb37",
   "metadata": {},
   "source": [
    "## Create representative dataset"
   ]
  },
  {
   "cell_type": "code",
   "execution_count": null,
   "id": "2e07ad07",
   "metadata": {
    "is_executing": true
   },
   "outputs": [],
   "source": [
    "classes = [\"XS\", \"S\", \"M\", \"L\", \"XL\"]\n",
    "# sample_10k = historic_df.sample(n=10000)\n",
    "# sample_1k = historic_df.sample(n=10000)\n"
   ]
  },
  {
   "cell_type": "code",
   "execution_count": null,
   "id": "4de14e26",
   "metadata": {
    "is_executing": true
   },
   "outputs": [],
   "source": [
    "# excluded_indices = df['Unnamed: 0']\n",
    "# sample_90k = historic_df.drop(index=excluded_indices)"
   ]
  },
  {
   "cell_type": "code",
   "execution_count": null,
   "id": "540e2529",
   "metadata": {
    "is_executing": true
   },
   "outputs": [],
   "source": [
    "# sample_90k.to_csv(\"s3://amos-training-data/90k_historic_sample.csv\")\n",
    "# sample_10k.to_csv(\"s3://amos-training-data/10k_historic_sample.csv\")\n",
    "# sample_1k.to_csv(\"s3://amos-training-data/1k_historic_sample.csv\")"
   ]
  },
  {
   "cell_type": "markdown",
   "id": "6b425e06",
   "metadata": {},
   "source": [
    "## Data exploration (historic)"
   ]
  },
  {
   "cell_type": "code",
   "execution_count": null,
   "id": "8f402250",
   "metadata": {
    "is_executing": true
   },
   "outputs": [],
   "source": [
    "historic_df.info()"
   ]
  },
  {
   "cell_type": "markdown",
   "id": "7eec5434",
   "metadata": {},
   "source": [
    "### Distribution of 'MCC Level'"
   ]
  },
  {
   "cell_type": "code",
   "execution_count": null,
   "id": "a23b4670",
   "metadata": {
    "is_executing": true
   },
   "outputs": [],
   "source": [
    "mcc_count = historic_df.value_counts('MCC Level', ascending=False)\n",
    "\n",
    "mcc_count.index = map(lambda x: x[:30], mcc_count.index)\n",
    "\n",
    "mcc_count.plot(kind='barh', figsize = (30,20), fontsize=20)"
   ]
  },
  {
   "cell_type": "markdown",
   "id": "6c314eeb",
   "metadata": {},
   "source": [
    "### Distribution of 'Merchant size'"
   ]
  },
  {
   "cell_type": "code",
   "execution_count": null,
   "id": "f4e07981",
   "metadata": {
    "is_executing": true
   },
   "outputs": [],
   "source": [
    "ms_count = historic_df.value_counts('MerchantSizeByDPV', ascending=False)\n",
    "\n",
    "ms_count.plot(kind='bar')"
   ]
  },
  {
   "cell_type": "markdown",
   "id": "ed773b3a",
   "metadata": {},
   "source": [
    "## Data Exploration (enriched)"
   ]
  },
  {
   "cell_type": "code",
   "execution_count": null,
   "id": "689225ea",
   "metadata": {
    "is_executing": true
   },
   "outputs": [],
   "source": [
    "df.info()"
   ]
  },
  {
   "cell_type": "markdown",
   "id": "7f1a14bb",
   "metadata": {},
   "source": [
    "### Confidence in Google results"
   ]
  },
  {
   "cell_type": "code",
   "execution_count": null,
   "id": "629a0712",
   "metadata": {
    "is_executing": true
   },
   "outputs": [],
   "source": [
    "conf_count = df.value_counts('google_places_confidence', sort=False)\n",
    "conf_count = pd.DataFrame({'count': conf_count, 'cumulative': conf_count.cumsum()}, index = conf_count.index)\n",
    "conf_count.plot(kind=\"bar\")\n",
    "plt.show()"
   ]
  },
  {
   "cell_type": "markdown",
   "id": "243632ed",
   "metadata": {},
   "source": [
    "### Distribution of 'business_name_similarity'"
   ]
  },
  {
   "cell_type": "code",
   "execution_count": null,
   "id": "18a58634",
   "metadata": {
    "is_executing": true
   },
   "outputs": [],
   "source": [
    "#df = df.dropna()\n",
    "\n",
    "sim = df.apply(lambda lead: similarity(lead['Company Name'], lead['google_places_name']), axis=1)\n",
    "sim\n",
    "df['business_name_similarity'] = sim"
   ]
  },
  {
   "cell_type": "code",
   "execution_count": null,
   "id": "4ee89368",
   "metadata": {
    "is_executing": true
   },
   "outputs": [],
   "source": [
    "plt.hist(df['business_name_similarity'])\n",
    "plt.show()"
   ]
  },
  {
   "cell_type": "markdown",
   "id": "533f4c8b",
   "metadata": {},
   "source": [
    "### Correlation between \"business name similarity\" and confidence in results?"
   ]
  },
  {
   "cell_type": "code",
   "execution_count": null,
   "id": "3d33af8c",
   "metadata": {
    "is_executing": true
   },
   "outputs": [],
   "source": [
    "df_conf = df.groupby(['google_places_confidence']).agg(\n",
    "    mean=pd.NamedAgg(column=\"business_name_similarity\", aggfunc=\"mean\"),\n",
    "    median=pd.NamedAgg(column=\"business_name_similarity\", aggfunc=\"median\"),\n",
    ")\n",
    "df_conf.plot(kind='line', ylabel='business_name_similarity')\n",
    "plt.show()"
   ]
  },
  {
   "cell_type": "markdown",
   "id": "3d92d19e",
   "metadata": {},
   "source": [
    "### Comparision of company name and Google business name (confidence >= 0.8)"
   ]
  },
  {
   "cell_type": "code",
   "execution_count": null,
   "id": "efdbec83",
   "metadata": {
    "is_executing": true
   },
   "outputs": [],
   "source": [
    "df[df['google_places_confidence']>= 0.8][['domain', 'Company Name', 'google_places_name', 'google_places_confidence', 'business_name_similarity']].head(20)"
   ]
  },
  {
   "cell_type": "markdown",
   "id": "56e1b0fe",
   "metadata": {},
   "source": [
    "### Comparision of company name and Google business name (confidence < 0.5)"
   ]
  },
  {
   "cell_type": "code",
   "execution_count": null,
   "id": "eb5b6e8e",
   "metadata": {
    "is_executing": true
   },
   "outputs": [],
   "source": [
    "df[df['google_places_confidence']<0.5][['domain', 'Company Name', 'google_places_name', 'google_places_confidence', 'business_name_similarity']].head(20)"
   ]
  },
  {
   "cell_type": "markdown",
   "id": "6478f462",
   "metadata": {},
   "source": [
    "### Correlation between key metrics and business size?"
   ]
  },
  {
   "cell_type": "code",
   "execution_count": null,
   "id": "0e90af63",
   "metadata": {
    "is_executing": true
   },
   "outputs": [],
   "source": [
    "# select entries with a google candidate and >= 1 reviews\n",
    "df_google = df.dropna(subset=['google_places_place_id','google_places_rating'])\n",
    "df_google = df_google[df_google['google_places_user_ratings_total'] != 0]\n",
    "df_google.info()"
   ]
  },
  {
   "cell_type": "code",
   "execution_count": null,
   "id": "abd2c05b",
   "metadata": {
    "is_executing": true
   },
   "outputs": [],
   "source": [
    "order = ['XS', 'S', 'M', 'L', 'XL']\n",
    "aggregations = {\n",
    "    'google_places_user_ratings_total': ['mean', 'median'],\n",
    "    'google_places_confidence': ['mean', 'median'],\n",
    "    'regional_atlas_regional_score': ['mean', 'median'],\n",
    "    'google_places_rating': ['mean', 'median']\n",
    "}\n",
    "df_grouped = df_google.groupby(['MerchantSizeByDPV']).agg(aggregations).reset_index()\n",
    "\n",
    "# Use a trick to order merchant sizes in the table created by groupby\n",
    "mapping = {size: i for i, size in enumerate(order)}\n",
    "key = df_grouped['MerchantSizeByDPV'].map(mapping)    \n",
    "df_grouped = df_grouped.iloc[key.argsort()]"
   ]
  },
  {
   "cell_type": "code",
   "execution_count": null,
   "id": "2fbf1662",
   "metadata": {
    "is_executing": true
   },
   "outputs": [],
   "source": [
    "df_grouped.info()"
   ]
  },
  {
   "cell_type": "code",
   "execution_count": null,
   "id": "6edb451e",
   "metadata": {
    "is_executing": true
   },
   "outputs": [],
   "source": [
    "fig, axs = plt.subplots(nrows=2,ncols=2, figsize=(8,8), sharex=True)\n",
    "df_grouped.plot(kind='line', x='MerchantSizeByDPV', y='google_places_user_ratings_total', legend=True,\n",
    "                ylabel=\"google_places_user_ratings_total\", title=\"Number of ratings (Google)\", ax=axs[0,0], secondary_y=('google_places_user_ratings_total', 'median'))\n",
    "df_grouped.plot(kind='line', x='MerchantSizeByDPV', y='google_places_rating', legend=False,\n",
    "                ylabel=\"google_places_rating\", title=\"Star rating (Google)\", ax=axs[0,1], secondary_y=('google_places_rating', 'median'))\n",
    "df_grouped.plot(kind='line', x='MerchantSizeByDPV', y='google_places_confidence', legend=False,\n",
    "                ylabel=\"google_places_confidence\", title=\"Confidence in result (Google)\", ax=axs[1,0], secondary_y=('google_places_confidence', 'median'))\n",
    "df_grouped.plot(kind='line', x='MerchantSizeByDPV', y='regional_atlas_regional_score', legend=False,\n",
    "                ylabel=\"regional_atlas_regional_score\", title=\"Regional score (Regionalatlas)\", ax=axs[1,1], secondary_y=('regional_atlas_regional_score', 'median'))\n",
    "fig.tight_layout()\n",
    "\n",
    "\n",
    "plt.show()"
   ]
  },
  {
   "cell_type": "code",
   "execution_count": null,
   "id": "46971651",
   "metadata": {
    "is_executing": true
   },
   "outputs": [],
   "source": [
    "df_grouped_no_agg = df_google.groupby(['MerchantSizeByDPV'])\n",
    "df_grouped_no_agg[['google_places_rating']].boxplot(subplots=False, rot=45)"
   ]
  },
  {
   "cell_type": "code",
   "execution_count": null,
   "id": "017b8e88",
   "metadata": {
    "is_executing": true
   },
   "outputs": [],
   "source": [
    "df_grouped_no_agg[['regional_atlas_regional_score']].boxplot(subplots=False, rot=45)"
   ]
  },
  {
   "cell_type": "code",
   "execution_count": null,
   "id": "d5005ee7",
   "metadata": {
    "is_executing": true
   },
   "outputs": [],
   "source": [
    "df[['google_places_confidence']].boxplot()"
   ]
  },
  {
   "cell_type": "markdown",
   "id": "643eea41",
   "metadata": {},
   "source": [
    "## Geolocation analysis"
   ]
  },
  {
   "cell_type": "code",
   "execution_count": null,
   "id": "f576e0cc",
   "metadata": {
    "is_executing": true
   },
   "outputs": [],
   "source": [
    "!pip install plotly\n",
    "!pip install geopy"
   ]
  },
  {
   "cell_type": "code",
   "execution_count": null,
   "id": "60535e3e",
   "metadata": {
    "is_executing": true
   },
   "outputs": [],
   "source": [
    "from geopy.geocoders import Nominatim\n",
    "import time\n",
    "from tqdm import tqdm\n",
    "import plotly.express as px\n",
    "\n",
    "SAMPLE_SIZE = 10"
   ]
  },
  {
   "cell_type": "code",
   "execution_count": null,
   "id": "d692b014",
   "metadata": {
    "is_executing": true
   },
   "outputs": [],
   "source": [
    "geo_df = df.sample(SAMPLE_SIZE)"
   ]
  },
  {
   "cell_type": "code",
   "execution_count": null,
   "id": "6ce9f3ab",
   "metadata": {
    "is_executing": true
   },
   "outputs": [],
   "source": [
    "app = Nominatim(user_agent=\"test\")"
   ]
  },
  {
   "cell_type": "code",
   "execution_count": null,
   "id": "c7e697fb",
   "metadata": {
    "is_executing": true
   },
   "outputs": [],
   "source": [
    "def get_location_by_address(address):\n",
    "    \"\"\"This function returns a location as [lat, lon] from an address\n",
    "    will repeat until success\"\"\"\n",
    "    if address is None or address == \"\":\n",
    "        return pd.Series([None, None])\n",
    "    time.sleep(1)\n",
    "    try:\n",
    "        return pd.Series([app.geocode(address).raw['lat'], app.geocode(address).raw['lon']])\n",
    "    except Exception as e:\n",
    "        print(e)\n",
    "        return pd.Series([None, None])"
   ]
  },
  {
   "cell_type": "code",
   "execution_count": null,
   "id": "203655fa",
   "metadata": {
    "is_executing": true
   },
   "outputs": [],
   "source": [
    "tqdm.pandas(desc=\"Geocoding addresses\")\n",
    "geo_df[[\"lat\", \"lon\"]] = geo_df.progress_apply(lambda lead: get_location_by_address(lead[\"google_places_formatted_address\"]), axis=1)"
   ]
  },
  {
   "cell_type": "code",
   "execution_count": null,
   "id": "3cb71e9d",
   "metadata": {
    "is_executing": true
   },
   "outputs": [],
   "source": [
    "geo_df[['lat', 'lon']]"
   ]
  },
  {
   "cell_type": "code",
   "execution_count": null,
   "id": "c8798e78",
   "metadata": {
    "is_executing": true
   },
   "outputs": [],
   "source": [
    "fig = px.scatter_geo(geo_df,\n",
    "                    lat=geo_df.lat,\n",
    "                    lon=geo_df.lon,\n",
    "                    hover_name=\"google_places_formatted_address\",\n",
    "                    hover_data=[\"google_places_name\", \"Company Name\"],\n",
    "                    color=\"regional_atlas_regional_score\")\n",
    "fig.show()"
   ]
  },
  {
   "cell_type": "markdown",
   "id": "c0dfdada",
   "metadata": {},
   "source": [
    "## Mapping google business type to MCC Level"
   ]
  },
  {
   "cell_type": "code",
   "execution_count": null,
   "id": "48a376a0",
   "metadata": {
    "is_executing": true
   },
   "outputs": [],
   "source": [
    "df[['google_places_detailed_type', 'MCC Level']].head(10)"
   ]
  },
  {
   "cell_type": "code",
   "execution_count": null,
   "id": "7955a042",
   "metadata": {
    "is_executing": true
   },
   "outputs": [],
   "source": [
    "mcc_df = df.dropna(subset=['google_places_detailed_type'])"
   ]
  },
  {
   "cell_type": "code",
   "execution_count": null,
   "id": "abce702f",
   "metadata": {
    "is_executing": true
   },
   "outputs": [],
   "source": [
    "mcc_map = pd.DataFrame(columns=['google_type', 'mcc_level'])\n",
    "\n",
    "for index, row in mcc_df.iterrows():\n",
    "    if row['google_places_detailed_type'] is None or row['MCC Level'] is None:\n",
    "        continue\n",
    "\n",
    "    google_types = row['google_places_detailed_type'].strip('][').split(', ')\n",
    "    mapping = []\n",
    "    for g_type in google_types:\n",
    "        mapping.append([g_type.strip('\\''), row['MCC Level']])\n",
    "    mcc_map = pd.concat([pd.DataFrame(mapping, columns=mcc_map.columns), mcc_map], ignore_index=True)"
   ]
  },
  {
   "cell_type": "code",
   "execution_count": null,
   "id": "2d2e5617",
   "metadata": {
    "is_executing": true
   },
   "outputs": [],
   "source": [
    "mcc_map.head()"
   ]
  },
  {
   "cell_type": "code",
   "execution_count": null,
   "id": "bb829a83",
   "metadata": {
    "is_executing": true
   },
   "outputs": [],
   "source": [
    "mcc_map['value'] = 1\n",
    "mcc_pivot = pd.pivot_table(mcc_map, values='value',index='google_type', columns='mcc_level', aggfunc='count')\n",
    "mcc_pivot.head(10)"
   ]
  },
  {
   "cell_type": "code",
   "execution_count": null,
   "id": "efb49b25",
   "metadata": {
    "is_executing": true
   },
   "outputs": [],
   "source": [
    "import numpy as np\n",
    "fig, ax = plt.subplots(figsize=(20,30))\n",
    "im = ax.imshow(mcc_pivot)\n",
    "\n",
    "# Show all ticks and label them with the respective list entries\n",
    "ax.set_xticks(np.arange(len(mcc_pivot.columns)), labels=mcc_pivot.columns)\n",
    "ax.set_yticks(np.arange(len(mcc_pivot.index)), labels=mcc_pivot.index)\n",
    "\n",
    "# Rotate the tick labels and set their alignment.\n",
    "plt.setp(ax.get_xticklabels(), rotation=45, ha=\"right\",\n",
    "         rotation_mode=\"anchor\")\n",
    "\n",
    "fig.tight_layout()\n",
    "plt.show()"
   ]
  },
  {
   "cell_type": "code",
   "execution_count": null,
   "id": "d01c9159",
   "metadata": {
    "is_executing": true
   },
   "outputs": [],
   "source": [
    "## export list of google business types\n",
    "#business_types = pd.DataFrame(mcc_pivot.index)\n",
    "#business_types['mcc_level'] = None\n",
    "\n",
    "#business_types.to_csv('s3://amos-training-data/google_business_types.csv', index=False)"
   ]
  }
 ],
 "metadata": {
  "kernelspec": {
   "display_name": "Python 3 (ipykernel)",
   "language": "python",
   "name": "python3"
  },
  "language_info": {
   "codemirror_mode": {
    "name": "ipython",
    "version": 3
   },
   "file_extension": ".py",
   "mimetype": "text/x-python",
   "name": "python",
   "nbconvert_exporter": "python",
   "pygments_lexer": "ipython3",
   "version": "3.11.5"
  }
 },
 "nbformat": 4,
 "nbformat_minor": 5
}
